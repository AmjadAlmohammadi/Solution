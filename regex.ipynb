{
 "cells": [
  {
   "cell_type": "markdown",
   "metadata": {},
   "source": [
    "# Exercise: Regular Expressions"
   ]
  },
  {
   "cell_type": "code",
   "execution_count": 2,
   "metadata": {},
   "outputs": [],
   "source": [
    "import re"
   ]
  },
  {
   "cell_type": "code",
   "execution_count": 3,
   "metadata": {},
   "outputs": [
    {
     "name": "stdout",
     "output_type": "stream",
     "text": [
      "Username: john\n",
      "Mailserver: email\n",
      "Domain: com\n",
      "  \n",
      "Username: mary\n",
      "Mailserver: otherplace\n",
      "Domain: net\n",
      "  \n",
      "Username: support\n",
      "Mailserver: ourcompany\n",
      "Domain: co\n",
      "  \n"
     ]
    }
   ],
   "source": [
    "#1 Question: Match all email addresses (SOLVED)\n",
    "\n",
    "inputs = [\"My email is john@email.com and mary@otherplace.net\", \n",
    "          \"Visit us at support@ourcompany.co.uk for help\",\n",
    "          \"No emails here\"]\n",
    "\n",
    "pattern = r\"(\\w+)@(\\w+)\\.(\\w+)\"\n",
    "\n",
    "matches = []\n",
    "for input in inputs:\n",
    "    matches += re.findall(pattern, input)\n",
    "\n",
    "for m in matches:\n",
    "    username = m[0]\n",
    "    mailserver = m[1]\n",
    "    domain = m[2]\n",
    "    print(f\"Username: {username}\")\n",
    "    print(f\"Mailserver: {mailserver}\")\n",
    "    print(f\"Domain: {domain}\")\n",
    "    print('  ')"
   ]
  },
  {
   "cell_type": "code",
   "execution_count": 14,
   "metadata": {},
   "outputs": [
    {
     "name": "stdout",
     "output_type": "stream",
     "text": [
      "['@email.com', '@gmail.com', '@ourcompany.co.uk']\n"
     ]
    }
   ],
   "source": [
    "#2 Question: Extract domain from email\n",
    "\n",
    "inputs = [\"john@email.com\", \n",
    "          \"mary+newsletter@gmail.com\",\n",
    "          \"support@ourcompany.co.uk\"]\n",
    "# your code here ...: \n",
    "pattern = r\"(@\\w+.+)\"\n",
    "matches = []\n",
    "for input in inputs:\n",
    "    matches += re.findall(pattern , input)\n",
    "\n",
    "print(matches)"
   ]
  },
  {
   "cell_type": "code",
   "execution_count": 15,
   "metadata": {},
   "outputs": [
    {
     "name": "stdout",
     "output_type": "stream",
     "text": [
      "Valid\n",
      "Valid\n",
      "not valid\n"
     ]
    }
   ],
   "source": [
    "#3 Question: Validate phone number  \n",
    "\n",
    "inputs = [\"555-123-4567\",  \n",
    "          \"1 (234) 567-8910\",\n",
    "          \"notaphonenumber\"]\n",
    "\n",
    "pattern_1 = r\"(\\d{3})-(\\d{3})-(\\d{4})\"\n",
    "pattern_2 = r\"(\\d)\\s\\((\\d{3})\\)\\s(\\d{3})-(\\d{4})\"\n",
    "for x in inputs:\n",
    "    m1 = re.search(pattern_1, x)\n",
    "    m2 = re.search(pattern_2, x)\n",
    "    if m1 != None or m2 != None:\n",
    "        print('Valid')\n",
    "    else:\n",
    "        print(\"not valid\")"
   ]
  },
  {
   "cell_type": "code",
   "execution_count": 16,
   "metadata": {},
   "outputs": [
    {
     "name": "stdout",
     "output_type": "stream",
     "text": [
      "country code 234\n"
     ]
    }
   ],
   "source": [
    "#4 Question: Extract area code    \n",
    "\n",
    "inputs = [\"(555) 123-4567\",\n",
    "          \"1 (234) 567-8910\",\n",
    "          \"5551234567\"]\n",
    "\n",
    "pattern_1 = r\"(\\d{3})-(\\d{3})-(\\d{4})\"\n",
    "pattern_2 = r\"(\\d)\\s\\((\\d{3})\\)\\s(\\d{3})-(\\d{4})\"\n",
    "for x in inputs:\n",
    "    m1 = re.search(pattern_1, x)\n",
    "    m2 = re.search(pattern_2, x)\n",
    "    if m1:\n",
    "        print('country code', m1.groups()[0])\n",
    "    if m2:\n",
    "        print('country code', m2.groups()[1])"
   ]
  },
  {
   "cell_type": "code",
   "execution_count": 19,
   "metadata": {},
   "outputs": [
    {
     "name": "stdout",
     "output_type": "stream",
     "text": [
      "('//www.example.com',)\n"
     ]
    }
   ],
   "source": [
    "#5 Question: Match URLs and extract host\n",
    "\n",
    "inputs = [\"Visit https://www.example.com for more info\",\n",
    "          \"Our website is example.com\",\n",
    "          \"No URLs here\"]\n",
    "          \n",
    "white_pattern = r\"(//.+\\.com)\"\n",
    "for x in inputs:\n",
    "    m = re.search(white_pattern, x)\n",
    "    if m:\n",
    "        print(m.groups())"
   ]
  },
  {
   "cell_type": "code",
   "execution_count": 23,
   "metadata": {},
   "outputs": [
    {
     "data": {
      "text/plain": [
       "<re.Match object; span=(0, 11), match='Hello world'>"
      ]
     },
     "execution_count": 23,
     "metadata": {},
     "output_type": "execute_result"
    }
   ],
   "source": [
    "#6 Question: Remove non-alphabetic characters\n",
    "\n",
    "inputs = [\"Hello world!\",\n",
    "          \"123 Main St.\", \n",
    "          \"greetings&more\"]\n",
    "\n",
    "string = \"Hello world!\"\n",
    "white_pattern = r'[a-zA-Z\\s]+'\n",
    "re.search(white_pattern, string)"
   ]
  },
  {
   "cell_type": "code",
   "execution_count": 24,
   "metadata": {},
   "outputs": [
    {
     "name": "stdout",
     "output_type": "stream",
     "text": [
      "<re.Match object; span=(38, 45), match='station'>\n",
      "<re.Match object; span=(20, 24), match='tion'>\n",
      "<re.Match object; span=(0, 6), match='motion'>\n"
     ]
    }
   ],
   "source": [
    "#7 Question: Find words containing \"tion\" \n",
    "\n",
    "inputs = [\"This is a test sentence with the word station in it.\",\n",
    "          \"No words containing tion here\",\n",
    "          \"motion activation vacation\"]\n",
    "\n",
    "pattern = r'\\w+ion'\n",
    "for x in inputs:\n",
    "    print(re.search(pattern, x))"
   ]
  },
  {
   "cell_type": "code",
   "execution_count": 25,
   "metadata": {},
   "outputs": [
    {
     "data": {
      "text/plain": [
       "'goodbye world'"
      ]
     },
     "execution_count": 25,
     "metadata": {},
     "output_type": "execute_result"
    }
   ],
   "source": [
    "#8 Question: Replace all occurrences of \"hello\" with \"goodbye\"\n",
    "\n",
    "inputs = [\"hello world\", \n",
    "          \"hello there\",\n",
    "          \"no match\"]\n",
    "\n",
    "string = \"hello world\"\n",
    "pattern = r'hello'\n",
    "re.sub(pattern, 'goodbye', string)"
   ]
  },
  {
   "cell_type": "code",
   "execution_count": 26,
   "metadata": {},
   "outputs": [
    {
     "data": {
      "text/plain": [
       "('2023', '02', '01', '13', '00', '00')"
      ]
     },
     "execution_count": 26,
     "metadata": {},
     "output_type": "execute_result"
    }
   ],
   "source": [
    "#9 Question: Extract date strings in ISO8601 format\n",
    "\n",
    "inputs = [\"Log from 2023-01-15\",\n",
    "          \"Meeting on 2023-02-01T13:00:00Z\",  \n",
    "          \"No dates\"]\n",
    "\n",
    "string = \"Meeting on 2023-02-01T13:00:00Z\"\n",
    "pattern = r'(\\d{4})-(\\d{2})-(\\d{2})T(\\d{2}):(\\d{2}):(\\d{2})Z'\n",
    "re.search(pattern, string).groups()"
   ]
  },
  {
   "cell_type": "code",
   "execution_count": 27,
   "metadata": {},
   "outputs": [
    {
     "name": "stdout",
     "output_type": "stream",
     "text": [
      "Valid\n",
      "Invalid\n",
      "Invalid\n"
     ]
    }
   ],
   "source": [
    "#10 Question: Validate correctly formatted date\n",
    "\n",
    "inputs = [\"2023-01-15\",\n",
    "          \"02/01/2023\",\n",
    "          \"invalid date\"]\n",
    "\n",
    "for date in inputs:\n",
    "   if re.search(r'\\d{4}-\\d{2}-\\d{2}', date):\n",
    "      print('Valid')\n",
    "   else:\n",
    "      print('Invalid')\n"
   ]
  },
  {
   "cell_type": "code",
   "execution_count": 28,
   "metadata": {},
   "outputs": [
    {
     "name": "stdout",
     "output_type": "stream",
     "text": [
      "Hello World \n",
      "123-Main_St \n",
      "Hi there \n"
     ]
    }
   ],
   "source": [
    "#11 Question: Remove punctuation except hyphens \n",
    "\n",
    "inputs = [\"Hello! World?\",\n",
    "          \"123-Main_St.\",\n",
    "          \"Hi there.\"]\n",
    "\n",
    "for text in inputs:\n",
    "   print(re.sub(r'[^\\w-]+', ' ', text))"
   ]
  },
  {
   "cell_type": "code",
   "execution_count": 29,
   "metadata": {},
   "outputs": [
    {
     "name": "stdout",
     "output_type": "stream",
     "text": [
      "2\n",
      "1\n",
      "0\n"
     ]
    }
   ],
   "source": [
    "#12 Question: Count occurrences of a word\n",
    "\n",
    "inputs = [\"Hello world. Hello!\", \n",
    "          \"Hello hello world\",\n",
    "          \"no match\"]\n",
    "\n",
    "word = 'Hello'\n",
    "\n",
    "for text in inputs:\n",
    "   count = len(re.findall(r'\\b'+word+r'\\b', text))\n",
    "   print(count)"
   ]
  },
  {
   "cell_type": "code",
   "execution_count": 30,
   "metadata": {},
   "outputs": [
    {
     "name": "stdout",
     "output_type": "stream",
     "text": [
      "127.0.0.1\n",
      "192.168.1.1\n",
      "No IP\n"
     ]
    }
   ],
   "source": [
    "#13 Question: Extract IP addresses from log \n",
    "\n",
    "inputs = [\"127.0.0.1 - GET /\",\n",
    "          \"User logged in from 192.168.1.1\",\n",
    "          \"No IPs\"]\n",
    "\n",
    "for text in inputs:\n",
    "   result = re.search(r'\\d{1,3}\\.\\d{1,3}\\.\\d{1,3}\\.\\d{1,3}', text)\n",
    "   if result:\n",
    "      print(result.group())\n",
    "\n",
    "   else:\n",
    "      print('No IP')"
   ]
  },
  {
   "cell_type": "code",
   "execution_count": 33,
   "metadata": {},
   "outputs": [
    {
     "name": "stdout",
     "output_type": "stream",
     "text": [
      "Visa: ******\n",
      "My SSN is ******\n",
      "No numbers\n"
     ]
    }
   ],
   "source": [
    "#14 Question: Redact credit card and SSN numbers\n",
    "\n",
    "inputs = [\"Visa: 4111-1111-1111-1111\",\n",
    "          \"My SSN is 111-11-1111\", \n",
    "          \"No numbers\"]\n",
    "\n",
    "for text in inputs:\n",
    "   print(re.sub(r'\\d{4}-?\\d{4}-?\\d{4}-?\\d{4}|\\d{3}-?\\d{2}-?\\d{4}', '******', text))"
   ]
  }
 ],
 "metadata": {
  "kernelspec": {
   "display_name": "ds",
   "language": "python",
   "name": "python3"
  },
  "language_info": {
   "codemirror_mode": {
    "name": "ipython",
    "version": 3
   },
   "file_extension": ".py",
   "mimetype": "text/x-python",
   "name": "python",
   "nbconvert_exporter": "python",
   "pygments_lexer": "ipython3",
   "version": "3.11.3"
  }
 },
 "nbformat": 4,
 "nbformat_minor": 2
}
